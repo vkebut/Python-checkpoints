{
 "cells": [
  {
   "cell_type": "code",
   "execution_count": 4,
   "id": "452cf4e7",
   "metadata": {},
   "outputs": [],
   "source": [
    "#Instructions\n",
    "\n",
    "# Use the 'input' function to prompt the player to enter their guess as a string.\n",
    "# Use the 'int' function to convert the player's guess to an integer.\n",
    "# Use the 'import' statement to import the 'random' module.\n",
    "# Use the 'random.randint()' function to generate a random integer between 1 and 100.\n",
    "# Use an 'if/else' statement to check if the player's guess is too high, too low, or correct.\n",
    "# Use the 'print' function to provide feedback to the player based on their guess.\n",
    "# Use a 'while' loop to continue prompting the player for guesses until they correctly guess the number.\n",
    "# Note: \n",
    "# The game can be customized to allow the player to choose the range of numbers or the number of guesses they are allowed before they lose the game."
   ]
  },
  {
   "cell_type": "code",
   "execution_count": 5,
   "id": "63e7777f",
   "metadata": {},
   "outputs": [
    {
     "name": "stdout",
     "output_type": "stream",
     "text": [
      "\n",
      "Welcome to the Guess the Number game!\n",
      "I'm thinking of a number between 1 and 100. Can you guess what it is?\n",
      "Your guess is too low. Guess again.\n",
      "Your guess is too low. Guess again.\n",
      "Your guess is too low. Guess again.\n",
      "Your guess is too low. Guess again.\n",
      "Your guess is too low. Guess again.\n",
      "Your guess is too low. Guess again.\n",
      "Your guess is too low. Guess again.\n",
      "Your guess is too low. Guess again.\n",
      "Your guess is too low. Guess again.\n",
      "Your guess is too high. Guess again.\n",
      "Your guess is too low. Guess again.\n",
      "🎉 Congratulations! You guessed the number correctly!\n"
     ]
    }
   ],
   "source": [
    "import random\n",
    "\n",
    "def do_a_guess():\n",
    "    print(\"\\nWelcome to the Guess the Number game!\")\n",
    "    print(\"I'm thinking of a number between 1 and 100. Can you guess what it is?\")\n",
    "\n",
    "    random_number_generated = random.randint(1, 100)\n",
    "    guess = None\n",
    "\n",
    "    while guess != random_number_generated:\n",
    "        try:\n",
    "            guess = int(input(\"Enter your guess: \"))\n",
    "\n",
    "            if guess < random_number_generated:\n",
    "                print(\"Your guess is too low. Guess again.\")\n",
    "            elif guess > random_number_generated:\n",
    "                print(\"Your guess is too high. Guess again.\")\n",
    "            else:\n",
    "                print(\"Congratulations! You guessed the number correctly!\")\n",
    "        except ValueError:\n",
    "            print(\"Please enter a valid number.\")\n",
    "\n",
    "do_a_guess()\n"
   ]
  },
  {
   "cell_type": "markdown",
   "id": "018dfd1a",
   "metadata": {},
   "source": []
  }
 ],
 "metadata": {
  "kernelspec": {
   "display_name": "base",
   "language": "python",
   "name": "python3"
  },
  "language_info": {
   "codemirror_mode": {
    "name": "ipython",
    "version": 3
   },
   "file_extension": ".py",
   "mimetype": "text/x-python",
   "name": "python",
   "nbconvert_exporter": "python",
   "pygments_lexer": "ipython3",
   "version": "3.12.7"
  }
 },
 "nbformat": 4,
 "nbformat_minor": 5
}
